{
 "cells": [
  {
   "cell_type": "markdown",
   "metadata": {},
   "source": [
    "# Semisupervised classification on CWRU dataset"
   ]
  },
  {
   "cell_type": "markdown",
   "metadata": {},
   "source": [
    "## Configurations"
   ]
  },
  {
   "cell_type": "code",
   "execution_count": 1,
   "metadata": {},
   "outputs": [],
   "source": [
    "import torch\n",
    "import numpy as np"
   ]
  },
  {
   "cell_type": "code",
   "execution_count": 2,
   "metadata": {},
   "outputs": [],
   "source": [
    "torch.cuda.set_device(0)\n",
    "torch.manual_seed(13)\n",
    "torch.cuda.manual_seed(13)\n",
    "torch.backends.cudnn.deterministic=True\n",
    "np.random.seed(13)"
   ]
  },
  {
   "cell_type": "code",
   "execution_count": 3,
   "metadata": {},
   "outputs": [],
   "source": [
    "RAW_PATH = './data/raw'\n",
    "NP_PATH = './data/np'\n",
    "SAVE_PATH = './saved_models'"
   ]
  },
  {
   "cell_type": "code",
   "execution_count": 4,
   "metadata": {},
   "outputs": [],
   "source": [
    "DEVICE = torch.device('cuda' if torch.cuda.is_available() else 'cpu')"
   ]
  },
  {
   "cell_type": "code",
   "execution_count": 5,
   "metadata": {},
   "outputs": [],
   "source": [
    "MASK_P = 0.005  # 0.5% labels are given\n",
    "SCREEN = False  # screen some combination of (label, diameter) if set as true\n",
    "SCREEN_LABEL = 1\n",
    "SCREEN_DIAM = 2"
   ]
  },
  {
   "cell_type": "code",
   "execution_count": 6,
   "metadata": {},
   "outputs": [],
   "source": [
    "LR = 1e-4\n",
    "BATCH = 32\n",
    "FRAME_LEN = 1024\n",
    "TOL = 100\n",
    "EPOCH = 10000\n",
    "\n",
    "PRETRAIN = True\n",
    "PRETRAIN_EPOCH = 10000\n",
    "PRE_LR = 1e-4\n",
    "\n",
    "BETA1=1\n",
    "BETA2=100\n",
    "BETA3=100"
   ]
  },
  {
   "cell_type": "markdown",
   "metadata": {},
   "source": [
    "## Data Preprocessing"
   ]
  },
  {
   "cell_type": "code",
   "execution_count": 7,
   "metadata": {},
   "outputs": [],
   "source": [
    "from scipy import io\n",
    "from glob import glob"
   ]
  },
  {
   "cell_type": "code",
   "execution_count": 8,
   "metadata": {},
   "outputs": [],
   "source": [
    "def find_diameter(n):\n",
    "    if n<=100:\n",
    "        return 0\n",
    "    elif n<169:\n",
    "        return 1\n",
    "    elif n<209:\n",
    "        return 2\n",
    "    elif n<3000:\n",
    "        return 3\n",
    "    else:\n",
    "        return 4"
   ]
  },
  {
   "cell_type": "code",
   "execution_count": 9,
   "metadata": {},
   "outputs": [],
   "source": [
    "def preprocess_cwru(raw_path, out_path):\n",
    "    dirnames = glob('%s/*'%raw_path)\n",
    "    dirnames.sort()\n",
    "    data = {}\n",
    "    data['DE']=[]\n",
    "    data['FE']=[]\n",
    "    data['BA']=[]\n",
    "    train_idcs=[]\n",
    "    test_idcs=[]\n",
    "    train_labels=[]\n",
    "    test_labels=[]\n",
    "    train_rpms=[]\n",
    "    test_rpms=[]\n",
    "    cnt=0\n",
    "    RPM_LIST=[1797,1772,1750,1730]\n",
    "    train_fault_scale=[]\n",
    "    test_fault_scale=[]\n",
    "    for dir in dirnames:\n",
    "        l = int(dir.split('\\\\')[-1][0])\n",
    "        fnames = glob(dir+'/*.mat')\n",
    "        fnames.sort()\n",
    "        for f in fnames:    \n",
    "            fault = find_diameter(int(f.split('\\\\')[-1].split('.')[0]))\n",
    "            mat = io.loadmat(f)\n",
    "            r=0\n",
    "            s=0\n",
    "            fl={}\n",
    "            for m in ['DE','FE','BA']:\n",
    "                fl[m]=False\n",
    "            for k in mat:\n",
    "                if k[-3:] == 'RPM':\n",
    "                    r=mat[k][0,0]\n",
    "                if k[-4:] == 'time' and k[:4] == 'X098' and 'X%03d'%int(f.split('\\\\')[-1].split('.')[0])=='X099':\n",
    "                    continue\n",
    "                if k[-4:]=='time':\n",
    "                    data[k[5:7]].append(mat[k])\n",
    "                    fl[k[5:7]]=True\n",
    "                    if s>0 and s!= mat[k].shape[0]:\n",
    "                        print(\"This is NOT expected\")\n",
    "\n",
    "                    s=mat[k].shape[0]\n",
    "            for m in ['DE','FE','BA']:\n",
    "                if not fl[m]:\n",
    "                    data[m].append(np.zeros((s,1)))\n",
    "            idx = np.arange(cnt, cnt+s-1024, 204)\n",
    "\n",
    "            train_idx,test_idx = np.split(idx, [(idx.shape[0]*4)//5])\n",
    "            train_idcs.append(train_idx)\n",
    "            test_idcs.append(test_idx)\n",
    "            train_labels.append(np.ones_like(train_idx)*l)\n",
    "            test_labels.append(np.ones_like(test_idx)*l)\n",
    "            train_fault_scale.append(np.ones_like(train_idx)*fault)\n",
    "            test_fault_scale.append(np.ones_like(test_idx)*fault)\n",
    "            if r==0:\n",
    "                r=RPM_LIST[(int(f.split('\\\\')[-1].split('.')[0])-1)%4]\n",
    "            trr = np.ones(train_idx.shape[0])*r\n",
    "            train_rpms.append(trr)\n",
    "            test_rpms.append(np.ones_like(test_idx)*r)\n",
    "            cnt+=s\n",
    "    for d in data:\n",
    "        data[d] = np.concatenate(data[d],axis=0)\n",
    "    X=np.concatenate(list(data.values()),axis=-1)\n",
    "    train_indices = np.concatenate(train_idcs)\n",
    "    test_indices = np.concatenate(test_idcs)\n",
    "    train_rpms = np.concatenate(train_rpms)\n",
    "    test_rpms = np.concatenate(test_rpms)\n",
    "    train_labels = np.concatenate(train_labels)\n",
    "    test_labels = np.concatenate(test_labels)\n",
    "    train_fault_scale = np.concatenate(train_fault_scale)\n",
    "    test_fault_scale = np.concatenate(test_fault_scale)\n",
    "    np.save('%s/data.npy'%out_path,X)\n",
    "    np.save('%s/train_idx.npy'%out_path,train_indices)\n",
    "    np.save('%s/test_idx.npy'%out_path,test_indices)\n",
    "    np.save('%s/train_rpm.npy'%out_path,train_rpms)\n",
    "    np.save('%s/test_rpm.npy'%out_path,test_rpms)\n",
    "    np.save('%s/train_labels.npy'%out_path, train_labels)\n",
    "    np.save('%s/test_labels.npy'%out_path, test_labels)\n",
    "    np.save('%s/train_diameter.npy'%out_path, train_fault_scale)\n",
    "    np.save('%s/test_diameter.npy'%out_path, test_fault_scale)"
   ]
  },
  {
   "cell_type": "code",
   "execution_count": 10,
   "metadata": {},
   "outputs": [],
   "source": [
    "preprocess_cwru(RAW_PATH, NP_PATH)"
   ]
  },
  {
   "cell_type": "markdown",
   "metadata": {},
   "source": [
    "## Load Data\n",
    "DATA : (total len of data, 3)\n",
    "    - each column corresponds to DE/FE/BA data\n",
    "train_idx/test_idx : (# of frames)\n",
    "    - index of starting points of frames(1 frame : 1024 points)\n",
    "trainY/testY : (# of frames)\n",
    "    - labels(0: normal, 1: inner, 2: ball, 3: outer_centered, 4: outer_orthogonal, 5: outer_opposite)\n",
    "train_diameter/test_diameter : (# of frames)\n",
    "    - fault diameters"
   ]
  },
  {
   "cell_type": "code",
   "execution_count": 11,
   "metadata": {},
   "outputs": [],
   "source": [
    "DATA = np.load('%s/data.npy'%NP_PATH)\n",
    "train_idx = np.load('%s/train_idx.npy'%NP_PATH)\n",
    "test_idx = np.load('%s/test_idx.npy'%NP_PATH)\n",
    "trainY = np.load('%s/train_labels.npy'%NP_PATH)\n",
    "testY = np.load('%s/test_labels.npy'%NP_PATH)\n",
    "train_diameter = np.load('%s/train_diameter.npy'%NP_PATH)\n",
    "test_diameter = np.load('%s/test_diameter.npy'%NP_PATH)"
   ]
  },
  {
   "cell_type": "code",
   "execution_count": 12,
   "metadata": {},
   "outputs": [
    {
     "name": "stdout",
     "output_type": "stream",
     "text": [
      "(9012305, 3) (35082,) (8803,) (35082,) (8803,) (35082,) (8803,)\n"
     ]
    }
   ],
   "source": [
    "print(DATA.shape, train_idx.shape, test_idx.shape, trainY.shape, testY.shape, train_diameter.shape, test_diameter.shape)"
   ]
  },
  {
   "cell_type": "markdown",
   "metadata": {},
   "source": [
    "## Define MASK"
   ]
  },
  {
   "cell_type": "code",
   "execution_count": 13,
   "metadata": {},
   "outputs": [],
   "source": [
    "MASK = np.random.choice(trainY.shape[0], trainY.shape[0], replace=False) < int(MASK_P*trainY.shape[0])"
   ]
  },
  {
   "cell_type": "code",
   "execution_count": 14,
   "metadata": {},
   "outputs": [],
   "source": [
    "if SCREEN:\n",
    "    #TBD : masked ratio is not maintained\n",
    "    MASK[(trainY==SCREEN_LABEL)&(train_diameter==SCREEN_DIAM)] = False"
   ]
  },
  {
   "cell_type": "markdown",
   "metadata": {},
   "source": [
    "## Train"
   ]
  },
  {
   "cell_type": "code",
   "execution_count": 15,
   "metadata": {},
   "outputs": [],
   "source": [
    "import torch.nn as nn\n",
    "import torch.optim as optim\n",
    "import time"
   ]
  },
  {
   "cell_type": "code",
   "execution_count": 16,
   "metadata": {},
   "outputs": [],
   "source": [
    "train_shuffle = np.arange(train_idx.shape[0])\n",
    "if PRETRAIN:\n",
    "    pretrain_shuffle = np.arange(train_idx[MASK].shape[0])\n",
    "np.random.shuffle(train_shuffle)\n",
    "np.random.shuffle(pretrain_shuffle)"
   ]
  },
  {
   "cell_type": "code",
   "execution_count": 17,
   "metadata": {},
   "outputs": [],
   "source": [
    "from models.model_jh import ENC\n",
    "param = {\n",
    "    'in_dim' : 1,\n",
    "    'h_dim' : 32,\n",
    "    'n_mode' : 3,\n",
    "    'enc_depth' : 4,\n",
    "    'n_label' : 6\n",
    "}\n",
    "model = ENC(**param).cuda()"
   ]
  },
  {
   "cell_type": "code",
   "execution_count": 18,
   "metadata": {},
   "outputs": [],
   "source": [
    "optimizer = optim.Adam(model.parameters(), lr=LR)\n",
    "if PRETRAIN:\n",
    "    optimizer_pretrain = optim.Adam(model.parameters(), lr=PRE_LR)\n",
    "best_eval = float('inf')"
   ]
  },
  {
   "cell_type": "code",
   "execution_count": 19,
   "metadata": {},
   "outputs": [],
   "source": [
    "def batch_step(model, X, Y, M=None, train=False, optimizer=None):\n",
    "    if M is None:\n",
    "        M = torch.zeros_like(Y) == 0\n",
    "        M = M.to(device=DEVICE, dtype=torch.bool)\n",
    "    \n",
    "    m = X.sum(dim=-1) != 0\n",
    "    if train:\n",
    "        model.zero_grad()\n",
    "    recon_loss, class_loss, entropy_loss, pred = model(X,m,Y,M)\n",
    "    correct = (Y[Y==pred]).shape[0]\n",
    "    wrong = (Y[Y!=pred]).shape[0]\n",
    "    \n",
    "    total_loss = BETA1*recon_loss + BETA2*class_loss + BETA3*entropy_loss\n",
    "    if train:\n",
    "        total_loss.backward()\n",
    "        optimizer.step()\n",
    "    return total_loss, correct, wrong"
   ]
  },
  {
   "cell_type": "markdown",
   "metadata": {},
   "source": [
    "### Pretrain (if set as true)"
   ]
  },
  {
   "cell_type": "code",
   "execution_count": 23,
   "metadata": {},
   "outputs": [],
   "source": [
    "def train(model,optimizer,train_idx,trainY,shuffle,epoch,pretrain=False):\n",
    "    patience = 0\n",
    "    best_eval = float('inf')\n",
    "    for e in range(epoch):\n",
    "        train_loss = 0.0\n",
    "        n = 0\n",
    "        train_correct = 0\n",
    "        train_wrong = 0\n",
    "        model.train()\n",
    "        timestamp = time.time()\n",
    "        for b in range((shuffle.shape[0]-1)//BATCH+1):\n",
    "            X = DATA[train_idx[shuffle[b*BATCH:(b+1)*BATCH]][:,None]+np.arange(FRAME_LEN)]\n",
    "            Y = trainY[shuffle[b*BATCH:(b+1)*BATCH]]\n",
    "            X = np.transpose(X, [0,2,1])\n",
    "            X = torch.tensor(X, device=DEVICE, dtype=torch.float)\n",
    "            Y = torch.tensor(Y, device=DEVICE, dtype=torch.long)\n",
    "            M=None\n",
    "            if not pretrain:\n",
    "                M = MASK[shuffle[b*BATCH:(b+1)*BATCH]]\n",
    "                M = torch.tensor(M, device=DEVICE, dtype=torch.bool)\n",
    "            loss, correct, wrong = batch_step(model, X, Y, train=True, optimizer=optimizer)\n",
    "            train_loss = (train_loss*n + loss.item()*X.shape[0])/(n+X.shape[0])\n",
    "            n += X.shape[0]\n",
    "            train_correct += correct\n",
    "            train_wrong += wrong\n",
    "        model.eval()\n",
    "        eval_loss = 0.0\n",
    "        n = 0\n",
    "        eval_correct = 0\n",
    "        eval_wrong = 0\n",
    "        with torch.no_grad():\n",
    "            for b in range((test_idx.shape[0]-1)//BATCH+1):\n",
    "                X = DATA[test_idx[b*BATCH:(b+1)*BATCH][:,None]+np.arange(FRAME_LEN)]\n",
    "                Y = testY[b*BATCH:(b+1)*BATCH]\n",
    "                X = np.transpose(X, [0,2,1])\n",
    "                X = torch.tensor(X, device=DEVICE, dtype=torch.float)\n",
    "                Y = torch.tensor(Y, device=DEVICE, dtype=torch.long)\n",
    "\n",
    "                loss, correct, wrong = batch_step(model, X, Y, train=False)\n",
    "                eval_loss = (eval_loss*n + loss.item()*X.shape[0])/(n+X.shape[0])\n",
    "                n+= X.shape[0]\n",
    "                eval_correct += correct\n",
    "                eval_wrong += wrong\n",
    "        mode = 'Pretrain' if pretrain else 'Train'\n",
    "        print('(%.2fs)/[%s %d]\\n\\t(train) loss : %.5f,\\tacc : %.5f'%(time.time()-timestamp, mode,e+1, train_loss, train_correct/(train_correct+train_wrong)))\n",
    "        print('\\t(eval) loss : %.5f,\\tacc : %.5f'%(eval_loss, eval_correct/(eval_correct+eval_wrong)))\n",
    "        if eval_loss < best_eval:\n",
    "            best_eval = eval_loss\n",
    "            patience = 0\n",
    "            torch.save(model.state_dict(), '%s/%s_best.pth'%(SAVE_PATH,mode))\n",
    "        patience += 1\n",
    "        if patience>TOL:\n",
    "            print('Early stop at Epoch %d'%(e+1))\n",
    "            break"
   ]
  },
  {
   "cell_type": "code",
   "execution_count": 21,
   "metadata": {},
   "outputs": [
    {
     "name": "stdout",
     "output_type": "stream",
     "text": [
      "(8.84s)/[Pretrain 1]\n",
      "\t(train) loss : 209.12918,\tacc : 0.20571\n",
      "\t(eval) loss : 209.12376,\tacc : 0.22436\n",
      "(6.15s)/[Pretrain 2]\n",
      "\t(train) loss : 209.06720,\tacc : 0.27429\n",
      "\t(eval) loss : 209.07051,\tacc : 0.21652\n",
      "(6.05s)/[Pretrain 3]\n",
      "\t(train) loss : 209.00255,\tacc : 0.26857\n",
      "\t(eval) loss : 209.00995,\tacc : 0.21595\n",
      "(6.12s)/[Pretrain 4]\n",
      "\t(train) loss : 208.93387,\tacc : 0.26857\n",
      "\t(eval) loss : 208.94321,\tacc : 0.21413\n",
      "(6.57s)/[Pretrain 5]\n",
      "\t(train) loss : 208.85924,\tacc : 0.25143\n",
      "\t(eval) loss : 208.87182,\tacc : 0.21493\n",
      "(6.28s)/[Pretrain 6]\n",
      "\t(train) loss : 208.78052,\tacc : 0.28000\n",
      "\t(eval) loss : 208.79726,\tacc : 0.21470\n"
     ]
    },
    {
     "ename": "KeyboardInterrupt",
     "evalue": "",
     "output_type": "error",
     "traceback": [
      "\u001b[1;31m---------------------------------------------------------------------------\u001b[0m",
      "\u001b[1;31mKeyboardInterrupt\u001b[0m                         Traceback (most recent call last)",
      "\u001b[1;32m<ipython-input-21-d7169d89f801>\u001b[0m in \u001b[0;36m<module>\u001b[1;34m()\u001b[0m\n\u001b[0;32m      9\u001b[0m         \u001b[1;34m'optimizer'\u001b[0m \u001b[1;33m:\u001b[0m \u001b[0moptimizer_pretrain\u001b[0m\u001b[1;33m\u001b[0m\u001b[0m\n\u001b[0;32m     10\u001b[0m     }\n\u001b[1;32m---> 11\u001b[1;33m     \u001b[0mtrain\u001b[0m\u001b[1;33m(\u001b[0m\u001b[1;33m**\u001b[0m\u001b[0mpretrain_param\u001b[0m\u001b[1;33m)\u001b[0m\u001b[1;33m\u001b[0m\u001b[0m\n\u001b[0m\u001b[0;32m     12\u001b[0m     \u001b[0mmodel\u001b[0m\u001b[1;33m.\u001b[0m\u001b[0mload_state_dict\u001b[0m\u001b[1;33m(\u001b[0m\u001b[0mtorch\u001b[0m\u001b[1;33m.\u001b[0m\u001b[0mload\u001b[0m\u001b[1;33m(\u001b[0m\u001b[1;34m'%s/pretrain_best.pth'\u001b[0m\u001b[1;33m%\u001b[0m\u001b[0mSAVE_PATH\u001b[0m\u001b[1;33m)\u001b[0m\u001b[1;33m)\u001b[0m\u001b[1;33m\u001b[0m\u001b[0m\n",
      "\u001b[1;32m<ipython-input-20-8d0155ef0159>\u001b[0m in \u001b[0;36mtrain\u001b[1;34m(model, optimizer, train_idx, trainY, shuffle, epoch, pretrain)\u001b[0m\n\u001b[0;32m     37\u001b[0m                 \u001b[0mY\u001b[0m \u001b[1;33m=\u001b[0m \u001b[0mtorch\u001b[0m\u001b[1;33m.\u001b[0m\u001b[0mtensor\u001b[0m\u001b[1;33m(\u001b[0m\u001b[0mY\u001b[0m\u001b[1;33m,\u001b[0m \u001b[0mdevice\u001b[0m\u001b[1;33m=\u001b[0m\u001b[0mDEVICE\u001b[0m\u001b[1;33m,\u001b[0m \u001b[0mdtype\u001b[0m\u001b[1;33m=\u001b[0m\u001b[0mtorch\u001b[0m\u001b[1;33m.\u001b[0m\u001b[0mlong\u001b[0m\u001b[1;33m)\u001b[0m\u001b[1;33m\u001b[0m\u001b[0m\n\u001b[0;32m     38\u001b[0m \u001b[1;33m\u001b[0m\u001b[0m\n\u001b[1;32m---> 39\u001b[1;33m                 \u001b[0mloss\u001b[0m\u001b[1;33m,\u001b[0m \u001b[0mcorrect\u001b[0m\u001b[1;33m,\u001b[0m \u001b[0mwrong\u001b[0m \u001b[1;33m=\u001b[0m \u001b[0mbatch_step\u001b[0m\u001b[1;33m(\u001b[0m\u001b[0mmodel\u001b[0m\u001b[1;33m,\u001b[0m \u001b[0mX\u001b[0m\u001b[1;33m,\u001b[0m \u001b[0mY\u001b[0m\u001b[1;33m,\u001b[0m \u001b[0mtrain\u001b[0m\u001b[1;33m=\u001b[0m\u001b[1;32mFalse\u001b[0m\u001b[1;33m)\u001b[0m\u001b[1;33m\u001b[0m\u001b[0m\n\u001b[0m\u001b[0;32m     40\u001b[0m                 \u001b[0meval_loss\u001b[0m \u001b[1;33m=\u001b[0m \u001b[1;33m(\u001b[0m\u001b[0meval_loss\u001b[0m\u001b[1;33m*\u001b[0m\u001b[0mn\u001b[0m \u001b[1;33m+\u001b[0m \u001b[0mloss\u001b[0m\u001b[1;33m.\u001b[0m\u001b[0mitem\u001b[0m\u001b[1;33m(\u001b[0m\u001b[1;33m)\u001b[0m\u001b[1;33m*\u001b[0m\u001b[0mX\u001b[0m\u001b[1;33m.\u001b[0m\u001b[0mshape\u001b[0m\u001b[1;33m[\u001b[0m\u001b[1;36m0\u001b[0m\u001b[1;33m]\u001b[0m\u001b[1;33m)\u001b[0m\u001b[1;33m/\u001b[0m\u001b[1;33m(\u001b[0m\u001b[0mn\u001b[0m\u001b[1;33m+\u001b[0m\u001b[0mX\u001b[0m\u001b[1;33m.\u001b[0m\u001b[0mshape\u001b[0m\u001b[1;33m[\u001b[0m\u001b[1;36m0\u001b[0m\u001b[1;33m]\u001b[0m\u001b[1;33m)\u001b[0m\u001b[1;33m\u001b[0m\u001b[0m\n\u001b[0;32m     41\u001b[0m                 \u001b[0mn\u001b[0m\u001b[1;33m+=\u001b[0m \u001b[0mX\u001b[0m\u001b[1;33m.\u001b[0m\u001b[0mshape\u001b[0m\u001b[1;33m[\u001b[0m\u001b[1;36m0\u001b[0m\u001b[1;33m]\u001b[0m\u001b[1;33m\u001b[0m\u001b[0m\n",
      "\u001b[1;32m<ipython-input-19-0a78e8f60b45>\u001b[0m in \u001b[0;36mbatch_step\u001b[1;34m(model, X, Y, M, train, optimizer)\u001b[0m\n\u001b[0;32m      7\u001b[0m     \u001b[1;32mif\u001b[0m \u001b[0mtrain\u001b[0m\u001b[1;33m:\u001b[0m\u001b[1;33m\u001b[0m\u001b[0m\n\u001b[0;32m      8\u001b[0m         \u001b[0mmodel\u001b[0m\u001b[1;33m.\u001b[0m\u001b[0mzero_grad\u001b[0m\u001b[1;33m(\u001b[0m\u001b[1;33m)\u001b[0m\u001b[1;33m\u001b[0m\u001b[0m\n\u001b[1;32m----> 9\u001b[1;33m     \u001b[0mrecon_loss\u001b[0m\u001b[1;33m,\u001b[0m \u001b[0mclass_loss\u001b[0m\u001b[1;33m,\u001b[0m \u001b[0mentropy_loss\u001b[0m\u001b[1;33m,\u001b[0m \u001b[0mpred\u001b[0m \u001b[1;33m=\u001b[0m \u001b[0mmodel\u001b[0m\u001b[1;33m(\u001b[0m\u001b[0mX\u001b[0m\u001b[1;33m,\u001b[0m\u001b[0mm\u001b[0m\u001b[1;33m,\u001b[0m\u001b[0mY\u001b[0m\u001b[1;33m,\u001b[0m\u001b[0mM\u001b[0m\u001b[1;33m)\u001b[0m\u001b[1;33m\u001b[0m\u001b[0m\n\u001b[0m\u001b[0;32m     10\u001b[0m     \u001b[0mcorrect\u001b[0m \u001b[1;33m=\u001b[0m \u001b[1;33m(\u001b[0m\u001b[0mY\u001b[0m\u001b[1;33m[\u001b[0m\u001b[0mY\u001b[0m\u001b[1;33m==\u001b[0m\u001b[0mpred\u001b[0m\u001b[1;33m]\u001b[0m\u001b[1;33m)\u001b[0m\u001b[1;33m.\u001b[0m\u001b[0mshape\u001b[0m\u001b[1;33m[\u001b[0m\u001b[1;36m0\u001b[0m\u001b[1;33m]\u001b[0m\u001b[1;33m\u001b[0m\u001b[0m\n\u001b[0;32m     11\u001b[0m     \u001b[0mwrong\u001b[0m \u001b[1;33m=\u001b[0m \u001b[1;33m(\u001b[0m\u001b[0mY\u001b[0m\u001b[1;33m[\u001b[0m\u001b[0mY\u001b[0m\u001b[1;33m!=\u001b[0m\u001b[0mpred\u001b[0m\u001b[1;33m]\u001b[0m\u001b[1;33m)\u001b[0m\u001b[1;33m.\u001b[0m\u001b[0mshape\u001b[0m\u001b[1;33m[\u001b[0m\u001b[1;36m0\u001b[0m\u001b[1;33m]\u001b[0m\u001b[1;33m\u001b[0m\u001b[0m\n",
      "\u001b[1;32md:\\users\\jh\\appdata\\local\\programs\\python\\python36\\lib\\site-packages\\torch\\nn\\modules\\module.py\u001b[0m in \u001b[0;36m__call__\u001b[1;34m(self, *input, **kwargs)\u001b[0m\n\u001b[0;32m    530\u001b[0m             \u001b[0mresult\u001b[0m \u001b[1;33m=\u001b[0m \u001b[0mself\u001b[0m\u001b[1;33m.\u001b[0m\u001b[0m_slow_forward\u001b[0m\u001b[1;33m(\u001b[0m\u001b[1;33m*\u001b[0m\u001b[0minput\u001b[0m\u001b[1;33m,\u001b[0m \u001b[1;33m**\u001b[0m\u001b[0mkwargs\u001b[0m\u001b[1;33m)\u001b[0m\u001b[1;33m\u001b[0m\u001b[0m\n\u001b[0;32m    531\u001b[0m         \u001b[1;32melse\u001b[0m\u001b[1;33m:\u001b[0m\u001b[1;33m\u001b[0m\u001b[0m\n\u001b[1;32m--> 532\u001b[1;33m             \u001b[0mresult\u001b[0m \u001b[1;33m=\u001b[0m \u001b[0mself\u001b[0m\u001b[1;33m.\u001b[0m\u001b[0mforward\u001b[0m\u001b[1;33m(\u001b[0m\u001b[1;33m*\u001b[0m\u001b[0minput\u001b[0m\u001b[1;33m,\u001b[0m \u001b[1;33m**\u001b[0m\u001b[0mkwargs\u001b[0m\u001b[1;33m)\u001b[0m\u001b[1;33m\u001b[0m\u001b[0m\n\u001b[0m\u001b[0;32m    533\u001b[0m         \u001b[1;32mfor\u001b[0m \u001b[0mhook\u001b[0m \u001b[1;32min\u001b[0m \u001b[0mself\u001b[0m\u001b[1;33m.\u001b[0m\u001b[0m_forward_hooks\u001b[0m\u001b[1;33m.\u001b[0m\u001b[0mvalues\u001b[0m\u001b[1;33m(\u001b[0m\u001b[1;33m)\u001b[0m\u001b[1;33m:\u001b[0m\u001b[1;33m\u001b[0m\u001b[0m\n\u001b[0;32m    534\u001b[0m             \u001b[0mhook_result\u001b[0m \u001b[1;33m=\u001b[0m \u001b[0mhook\u001b[0m\u001b[1;33m(\u001b[0m\u001b[0mself\u001b[0m\u001b[1;33m,\u001b[0m \u001b[0minput\u001b[0m\u001b[1;33m,\u001b[0m \u001b[0mresult\u001b[0m\u001b[1;33m)\u001b[0m\u001b[1;33m\u001b[0m\u001b[0m\n",
      "\u001b[1;32mD:\\experiments\\anomaly\\cwru\\notebook\\models\\model_jh.py\u001b[0m in \u001b[0;36mforward\u001b[1;34m(self, x, m, label, label_mask)\u001b[0m\n\u001b[0;32m     99\u001b[0m         \u001b[0mz\u001b[0m \u001b[1;33m=\u001b[0m \u001b[0mself\u001b[0m\u001b[1;33m.\u001b[0m\u001b[0mencode\u001b[0m\u001b[1;33m(\u001b[0m\u001b[0mx\u001b[0m\u001b[1;33m,\u001b[0m\u001b[0mm\u001b[0m\u001b[1;33m)\u001b[0m\u001b[1;33m\u001b[0m\u001b[0m\n\u001b[0;32m    100\u001b[0m         \u001b[1;31m#z shape : (batch, dim)\u001b[0m\u001b[1;33m\u001b[0m\u001b[1;33m\u001b[0m\u001b[0m\n\u001b[1;32m--> 101\u001b[1;33m         \u001b[0my_recon\u001b[0m \u001b[1;33m=\u001b[0m \u001b[0mself\u001b[0m\u001b[1;33m.\u001b[0m\u001b[0mdecode\u001b[0m\u001b[1;33m(\u001b[0m\u001b[0mz\u001b[0m\u001b[1;33m,\u001b[0m \u001b[0mself\u001b[0m\u001b[1;33m.\u001b[0m\u001b[0mf_l\u001b[0m\u001b[1;33m)\u001b[0m\u001b[1;33m\u001b[0m\u001b[0m\n\u001b[0m\u001b[0;32m    102\u001b[0m         \u001b[0my_class\u001b[0m \u001b[1;33m=\u001b[0m \u001b[0mself\u001b[0m\u001b[1;33m.\u001b[0m\u001b[0mclassify\u001b[0m\u001b[1;33m(\u001b[0m\u001b[0mz\u001b[0m\u001b[1;33m)\u001b[0m\u001b[1;33m\u001b[0m\u001b[0m\n\u001b[0;32m    103\u001b[0m         \u001b[0mpred\u001b[0m \u001b[1;33m=\u001b[0m \u001b[0mtorch\u001b[0m\u001b[1;33m.\u001b[0m\u001b[0margmax\u001b[0m\u001b[1;33m(\u001b[0m\u001b[0my_class\u001b[0m\u001b[1;33m,\u001b[0m\u001b[0mdim\u001b[0m\u001b[1;33m=\u001b[0m\u001b[1;36m1\u001b[0m\u001b[1;33m)\u001b[0m\u001b[1;33m\u001b[0m\u001b[0m\n",
      "\u001b[1;32mD:\\experiments\\anomaly\\cwru\\notebook\\models\\model_jh.py\u001b[0m in \u001b[0;36mdecode\u001b[1;34m(self, z, f_l)\u001b[0m\n\u001b[0;32m     93\u001b[0m         \u001b[0mf\u001b[0m \u001b[1;33m=\u001b[0m \u001b[0mself\u001b[0m\u001b[1;33m.\u001b[0m\u001b[0mmulti_dec\u001b[0m\u001b[1;33m(\u001b[0m\u001b[0mz\u001b[0m\u001b[1;33m)\u001b[0m\u001b[1;33m\u001b[0m\u001b[0m\n\u001b[0;32m     94\u001b[0m         \u001b[1;31m#f shape : (batch, 3, dim)\u001b[0m\u001b[1;33m\u001b[0m\u001b[1;33m\u001b[0m\u001b[0m\n\u001b[1;32m---> 95\u001b[1;33m         \u001b[1;32mreturn\u001b[0m \u001b[0mself\u001b[0m\u001b[1;33m.\u001b[0m\u001b[0mdec\u001b[0m\u001b[1;33m(\u001b[0m\u001b[0mf\u001b[0m\u001b[1;33m,\u001b[0m \u001b[0mf_l\u001b[0m\u001b[1;33m)\u001b[0m\u001b[1;33m\u001b[0m\u001b[0m\n\u001b[0m\u001b[0;32m     96\u001b[0m \u001b[1;33m\u001b[0m\u001b[0m\n\u001b[0;32m     97\u001b[0m \u001b[1;33m\u001b[0m\u001b[0m\n",
      "\u001b[1;32mD:\\experiments\\anomaly\\cwru\\notebook\\models\\model_jh.py\u001b[0m in \u001b[0;36mdec\u001b[1;34m(self, x, f_l)\u001b[0m\n\u001b[0;32m     67\u001b[0m         \u001b[1;32mfor\u001b[0m \u001b[0mi\u001b[0m \u001b[1;32min\u001b[0m \u001b[0mrange\u001b[0m\u001b[1;33m(\u001b[0m\u001b[0mself\u001b[0m\u001b[1;33m.\u001b[0m\u001b[0mdepth\u001b[0m\u001b[1;33m)\u001b[0m\u001b[1;33m:\u001b[0m\u001b[1;33m\u001b[0m\u001b[0m\n\u001b[0;32m     68\u001b[0m             \u001b[0mx\u001b[0m \u001b[1;33m=\u001b[0m \u001b[0mtorch\u001b[0m\u001b[1;33m.\u001b[0m\u001b[0mcat\u001b[0m\u001b[1;33m(\u001b[0m\u001b[1;33m[\u001b[0m\u001b[0mx\u001b[0m\u001b[1;33m,\u001b[0m\u001b[0mf_l\u001b[0m\u001b[1;33m[\u001b[0m\u001b[1;33m-\u001b[0m\u001b[0mi\u001b[0m\u001b[1;33m-\u001b[0m\u001b[1;36m1\u001b[0m\u001b[1;33m]\u001b[0m\u001b[1;33m]\u001b[0m\u001b[1;33m,\u001b[0m\u001b[0mdim\u001b[0m\u001b[1;33m=\u001b[0m\u001b[1;36m1\u001b[0m\u001b[1;33m)\u001b[0m\u001b[1;33m\u001b[0m\u001b[0m\n\u001b[1;32m---> 69\u001b[1;33m             \u001b[0mx\u001b[0m \u001b[1;33m=\u001b[0m \u001b[0mself\u001b[0m\u001b[1;33m.\u001b[0m\u001b[0mdecoders\u001b[0m\u001b[1;33m[\u001b[0m\u001b[1;33m-\u001b[0m\u001b[0mi\u001b[0m\u001b[1;33m-\u001b[0m\u001b[1;36m1\u001b[0m\u001b[1;33m]\u001b[0m\u001b[1;33m(\u001b[0m\u001b[0mx\u001b[0m\u001b[1;33m,\u001b[0m \u001b[0moutput_size\u001b[0m\u001b[1;33m=\u001b[0m\u001b[0mself\u001b[0m\u001b[1;33m.\u001b[0m\u001b[0msizes\u001b[0m\u001b[1;33m[\u001b[0m\u001b[1;33m-\u001b[0m\u001b[0mi\u001b[0m\u001b[1;33m-\u001b[0m\u001b[1;36m1\u001b[0m\u001b[1;33m]\u001b[0m\u001b[1;33m)\u001b[0m\u001b[1;33m\u001b[0m\u001b[0m\n\u001b[0m\u001b[0;32m     70\u001b[0m             \u001b[0mx\u001b[0m \u001b[1;33m=\u001b[0m \u001b[0mnn\u001b[0m\u001b[1;33m.\u001b[0m\u001b[0mReLU\u001b[0m\u001b[1;33m(\u001b[0m\u001b[1;33m)\u001b[0m\u001b[1;33m.\u001b[0m\u001b[0mcuda\u001b[0m\u001b[1;33m(\u001b[0m\u001b[1;33m)\u001b[0m\u001b[1;33m(\u001b[0m\u001b[0mx\u001b[0m\u001b[1;33m)\u001b[0m\u001b[1;33m\u001b[0m\u001b[0m\n\u001b[0;32m     71\u001b[0m         \u001b[0mx\u001b[0m \u001b[1;33m=\u001b[0m \u001b[0mx\u001b[0m\u001b[1;33m.\u001b[0m\u001b[0mview\u001b[0m\u001b[1;33m(\u001b[0m\u001b[1;33m-\u001b[0m\u001b[1;36m1\u001b[0m\u001b[1;33m,\u001b[0m\u001b[0mself\u001b[0m\u001b[1;33m.\u001b[0m\u001b[0mn_mode\u001b[0m\u001b[1;33m,\u001b[0m \u001b[0mx\u001b[0m\u001b[1;33m.\u001b[0m\u001b[0msize\u001b[0m\u001b[1;33m(\u001b[0m\u001b[1;33m-\u001b[0m\u001b[1;36m1\u001b[0m\u001b[1;33m)\u001b[0m\u001b[1;33m)\u001b[0m\u001b[1;33m\u001b[0m\u001b[0m\n",
      "\u001b[1;32md:\\users\\jh\\appdata\\local\\programs\\python\\python36\\lib\\site-packages\\torch\\nn\\modules\\module.py\u001b[0m in \u001b[0;36m__call__\u001b[1;34m(self, *input, **kwargs)\u001b[0m\n\u001b[0;32m    530\u001b[0m             \u001b[0mresult\u001b[0m \u001b[1;33m=\u001b[0m \u001b[0mself\u001b[0m\u001b[1;33m.\u001b[0m\u001b[0m_slow_forward\u001b[0m\u001b[1;33m(\u001b[0m\u001b[1;33m*\u001b[0m\u001b[0minput\u001b[0m\u001b[1;33m,\u001b[0m \u001b[1;33m**\u001b[0m\u001b[0mkwargs\u001b[0m\u001b[1;33m)\u001b[0m\u001b[1;33m\u001b[0m\u001b[0m\n\u001b[0;32m    531\u001b[0m         \u001b[1;32melse\u001b[0m\u001b[1;33m:\u001b[0m\u001b[1;33m\u001b[0m\u001b[0m\n\u001b[1;32m--> 532\u001b[1;33m             \u001b[0mresult\u001b[0m \u001b[1;33m=\u001b[0m \u001b[0mself\u001b[0m\u001b[1;33m.\u001b[0m\u001b[0mforward\u001b[0m\u001b[1;33m(\u001b[0m\u001b[1;33m*\u001b[0m\u001b[0minput\u001b[0m\u001b[1;33m,\u001b[0m \u001b[1;33m**\u001b[0m\u001b[0mkwargs\u001b[0m\u001b[1;33m)\u001b[0m\u001b[1;33m\u001b[0m\u001b[0m\n\u001b[0m\u001b[0;32m    533\u001b[0m         \u001b[1;32mfor\u001b[0m \u001b[0mhook\u001b[0m \u001b[1;32min\u001b[0m \u001b[0mself\u001b[0m\u001b[1;33m.\u001b[0m\u001b[0m_forward_hooks\u001b[0m\u001b[1;33m.\u001b[0m\u001b[0mvalues\u001b[0m\u001b[1;33m(\u001b[0m\u001b[1;33m)\u001b[0m\u001b[1;33m:\u001b[0m\u001b[1;33m\u001b[0m\u001b[0m\n\u001b[0;32m    534\u001b[0m             \u001b[0mhook_result\u001b[0m \u001b[1;33m=\u001b[0m \u001b[0mhook\u001b[0m\u001b[1;33m(\u001b[0m\u001b[0mself\u001b[0m\u001b[1;33m,\u001b[0m \u001b[0minput\u001b[0m\u001b[1;33m,\u001b[0m \u001b[0mresult\u001b[0m\u001b[1;33m)\u001b[0m\u001b[1;33m\u001b[0m\u001b[0m\n",
      "\u001b[1;32md:\\users\\jh\\appdata\\local\\programs\\python\\python36\\lib\\site-packages\\torch\\nn\\modules\\conv.py\u001b[0m in \u001b[0;36mforward\u001b[1;34m(self, input, output_size)\u001b[0m\n\u001b[0;32m    629\u001b[0m         return F.conv_transpose1d(\n\u001b[0;32m    630\u001b[0m             \u001b[0minput\u001b[0m\u001b[1;33m,\u001b[0m \u001b[0mself\u001b[0m\u001b[1;33m.\u001b[0m\u001b[0mweight\u001b[0m\u001b[1;33m,\u001b[0m \u001b[0mself\u001b[0m\u001b[1;33m.\u001b[0m\u001b[0mbias\u001b[0m\u001b[1;33m,\u001b[0m \u001b[0mself\u001b[0m\u001b[1;33m.\u001b[0m\u001b[0mstride\u001b[0m\u001b[1;33m,\u001b[0m \u001b[0mself\u001b[0m\u001b[1;33m.\u001b[0m\u001b[0mpadding\u001b[0m\u001b[1;33m,\u001b[0m\u001b[1;33m\u001b[0m\u001b[0m\n\u001b[1;32m--> 631\u001b[1;33m             output_padding, self.groups, self.dilation)\n\u001b[0m\u001b[0;32m    632\u001b[0m \u001b[1;33m\u001b[0m\u001b[0m\n\u001b[0;32m    633\u001b[0m \u001b[1;33m\u001b[0m\u001b[0m\n",
      "\u001b[1;31mKeyboardInterrupt\u001b[0m: "
     ]
    }
   ],
   "source": [
    "if PRETRAIN:\n",
    "    pretrain_param = {\n",
    "        'model' : model,\n",
    "        'shuffle' : pretrain_shuffle,\n",
    "        'epoch' : PRETRAIN_EPOCH,\n",
    "        'pretrain' : True,\n",
    "        'train_idx' : train_idx[MASK],\n",
    "        'trainY' : trainY[MASK],\n",
    "        'optimizer' : optimizer_pretrain\n",
    "    }\n",
    "    train(**pretrain_param)\n",
    "    model.load_state_dict(torch.load('%s/pretrain_best.pth'%SAVE_PATH))"
   ]
  },
  {
   "cell_type": "code",
   "execution_count": null,
   "metadata": {},
   "outputs": [],
   "source": [
    "train_param = {\n",
    "    'model' : model,\n",
    "    'shuffle' : train_shuffle,\n",
    "    'epoch' : EPOCH,\n",
    "    'pretrain' : False,\n",
    "    'train_idx' : train_idx,\n",
    "    'trainY' : trainY,\n",
    "    'optimizer' : optimizer\n",
    "}\n",
    "train(**train_param)"
   ]
  },
  {
   "cell_type": "markdown",
   "metadata": {},
   "source": [
    "## Test"
   ]
  }
 ],
 "metadata": {
  "kernelspec": {
   "display_name": "Python 3",
   "language": "python",
   "name": "python3"
  },
  "language_info": {
   "codemirror_mode": {
    "name": "ipython",
    "version": 3
   },
   "file_extension": ".py",
   "mimetype": "text/x-python",
   "name": "python",
   "nbconvert_exporter": "python",
   "pygments_lexer": "ipython3",
   "version": "3.6.2"
  }
 },
 "nbformat": 4,
 "nbformat_minor": 2
}
